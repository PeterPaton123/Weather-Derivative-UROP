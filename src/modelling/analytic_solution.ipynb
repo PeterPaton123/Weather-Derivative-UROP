{
 "cells": [
  {
   "cell_type": "markdown",
   "metadata": {},
   "source": [
    "## Analytic Solution to Temperature Model\n",
    "\n",
    "$$ \\left( \\begin{array}{c} dT_t \\\\ dS_{t} \\\\ \\end{array} \\right) = \\left( \\begin{array}{c} \\dot{\\mu}(t) + \\alpha(\\mu(t) - T_{t}) \\\\ \\dot{\\sigma}(t) + \\beta(\\sigma(t) - S_{t}) \\\\ \\end{array} \\right) dt + \\left( \\begin{array}{c} S_{t} \\cdot \\sqrt{2\\alpha} & 0 \\\\ 0 & \\chi \\cdot \\sqrt{2\\beta} \\\\ \\end{array} \\right) \\left( \\begin{array}{c} dW^{(1)}_{t} \\\\ dW^{(2)}_{t} \\\\ \\end{array} \\right)$$\n",
    "$$ S_{0} \\sim N(\\sigma(0), \\chi^{2}) $$\n",
    "\n",
    "It is fairly easy to show that, even for this time-dependent Ornstein-Ulhenbeck process, $S_{t} \\sim N(\\sigma(t), \\chi^{2})$,\n",
    "\n",
    "\\begin{align*}\n",
    "    & dS_{t} = \\left[\\dot{\\sigma}(t) + \\beta (\\sigma(t) - S_{t}) \\right] dt + \\chi \\cdot \\sqrt{2 \\beta}~dW_{t}, \\\\\n",
    "    & dZ_{t} = \\left[\\beta S_{t} e^{\\beta t} + \\beta e^{\\beta t} \\left(\\sigma(t) - S_{t}\\right) + e^{\\beta t} \\dot{\\sigma}(t) \\right] dt + \\chi \\cdot \\sqrt{2 \\beta} e^{\\beta t} dW_{t}, & (\\text{Itô's Lemma, } Z_{t} = S_{t}e^{\\beta t}) \\\\\n",
    "    & dZ_{t} = \\left[\\beta e^{\\beta t} \\sigma(t) + e^{\\beta t} \\dot{\\sigma}(t) \\right] dt + \\chi \\cdot \\sqrt{2 \\beta} e^{\\beta t} dW_{t}, \\\\\n",
    "    & \\int_{0}^{t} dZ_{s} = Z_{t} - Z_{0} = \\beta \\int_{0}^{t} e^{\\beta s}\\sigma(s) ds + \\int_{0}^{t} e^{\\beta s} \\dot{\\sigma}(s) ds + \\chi\\cdot\\sqrt{2\\beta} \\int_{0}^{t} e^{\\beta s} dW_{s}, \\\\\n",
    "    & Z_{t} - Z_{0} = e^{\\beta t} \\sigma(t) - \\sigma(0) + \\chi\\cdot\\sqrt{2\\beta} \\int_{0}^{t} e^{\\beta s} dW_{s}, \\\\\n",
    "    & S_{t} e^{\\beta t} = S_{0} + e^{\\beta t} \\sigma(t) - \\sigma(0) + \\chi\\cdot\\sqrt{2\\beta} \\int_{0}^{t} e^{\\beta s} dW_{s}, \\\\\n",
    "    & S_{t} = \\sigma(t) + e^{-\\beta t} (S_{0} - \\sigma(0)) + \\chi\\cdot\\sqrt{2\\beta} \\int_{0}^{t} e^{\\beta (s-t)} dW_{s}.\n",
    "\\end{align*}\n",
    "\n",
    "Considering now the quantity, $\\int_{0}^{t} e^{\\beta (s-t)} dW_{s}$, as the integrand is deterministic, this is Gaussian, with mean $0$ and variance\n",
    "\n",
    "\\begin{align*}\n",
    "\\mathbb{V}\\left[ \\int_{0}^{t} e^{\\beta (s-t)} dW_{s} \\right] &= \\int_{0}^{t} \\mathbb{E}\\left[\\left(e^{\\beta (s-t)}\\right)^{2}\\right] ds & \\text{(Ito's Isometry)} \\\\\n",
    "& = \\frac{1}{2\\beta} (1 - e^{-2\\beta t}) \\\\\n",
    "&\\implies \\chi\\cdot\\sqrt{2\\beta} \\int_{0}^{t} e^{\\beta (s-t)} dW_{s} \\sim N(0, \\chi^{2}(1 - e^{-2 \\beta t}))\\\\\n",
    "&\\implies \\mathbb{V}[S_{t}] = e^{-2 \\beta t} \\mathbb{V}[S_{0}] + \\chi^{2}(1 - e^{-2 \\beta t})\\\\\n",
    " \\mathbb{V}[S_{0}] = \\chi^{2} &\\implies \\mathbb{V}[S_{t}] = \\chi^{2}.\n",
    "\\end{align*}\n"
   ]
  },
  {
   "cell_type": "markdown",
   "metadata": {},
   "source": [
    "We now aim to derive an analytic form of the temperature $T_{t}$ driven by stochastic standard deviation,\n",
    "\n",
    "There are a number of ways I will attempt to do this,\n",
    "\n",
    "# 1. Expectation over the path space\n",
    "\n",
    "If we consider a single path realisation, $\\omega$, of the stochastic volatility, which we denote by $S_{t}^{\\omega}$. Under this path realisation, we have a deterministic system,\n",
    "\n",
    "\\begin{align*}\n",
    "    & dT_{t} = \\left[\\dot{\\mu}(t) + \\alpha (\\mu(t) - T_{t}) \\right] dt + \\sqrt{2\\alpha} S_{t}^{\\omega}~dW_{t}, \\\\\n",
    "    & dY_{t} = \\left[\\alpha T_{t} e^{\\alpha t} + \\alpha e^{\\alpha t} \\left(\\mu(t) - T_{t}\\right) + e^{\\alpha t} \\dot{\\mu}(t) \\right] dt + \\sqrt{2\\alpha} S_{t}^{\\omega} e^{\\alpha t} dW_{t}, & (\\text{Itô's Lemma, } Y_{t} = T_{t}e^{\\alpha t}) \\\\\n",
    "    & dY_{t} = \\left[\\alpha e^{\\alpha t} \\mu(t) + e^{\\alpha t} \\dot{\\mu}(t) \\right] dt + \\sqrt{2\\alpha} S_{t}^{\\omega}e^{\\alpha t} dW_{t}, \\\\\n",
    "    & \\int_{0}^{t} dY_{s} = Y_{t} - Y_{0} = \\alpha \\int_{0}^{t} e^{\\alpha s}\\mu(s) ds + \\int_{0}^{t} e^{\\alpha s} \\dot{\\mu}(s) ds + \\sqrt{2\\alpha} \\int_{0}^{t} e^{\\alpha s} S_{s}^{\\omega} dW_{s}, \\\\\n",
    "    & Y_{t} - Y_{0} = e^{\\alpha t} \\mu(t) - \\mu(0) + \\sqrt{2\\alpha} \\int_{0}^{t} e^{\\alpha s} S_{s}^{\\omega} dW_{s}, \\\\\n",
    "    & T_{t} e^{\\alpha t} = T_{0} + e^{\\alpha t} \\mu(t) - \\mu(0) + \\sqrt{2\\alpha} \\int_{0}^{t} S_{t}^{\\omega} e^{\\alpha s} dW_{s}, \\\\\n",
    "    & T_{t} = \\mu(t) + e^{-\\alpha t} (T_{0} - \\mu(0)) + \\sqrt{2\\alpha} \\int_{0}^{t} S_{s}^{\\omega} e^{\\alpha (s-t)} dW_{s}.\n",
    "\\end{align*}"
   ]
  },
  {
   "cell_type": "markdown",
   "metadata": {},
   "source": [
    "Naturally, we initialise $T_{0} = \\mu(0)$. Therefore, under this instance of the stochastic volatility, we have a deterministic integrand, therefore we can apply Ito's Isometry in a similar manner to before.\n",
    "\n",
    "$$ T_{t} | \\omega \\sim N\\left(\\mu(t), \\sqrt{2\\alpha} \\cdot e^{-2\\alpha t} \\int_{0}^{t} \\left( S_{s}^{\\omega} e^{\\alpha s} \\right)^{2} ds\\right) $$\n",
    "\n",
    "Now, to get the marginal distribution, of $T_{t}$ we can take an expectation over the path realisations,\n",
    "\n",
    "$$ T_{t} \\sim \\mathbb{E}_{\\omega}\\left[T_{t} | \\omega \\right]. $$\n",
    "\n",
    "Unfortunately, I'm not sure how to express this quantity further."
   ]
  },
  {
   "cell_type": "markdown",
   "metadata": {},
   "source": [
    "# 2. Ito's Isometry\n",
    "\n",
    "In this part, I attempt to use Ito's Isometry to find an analytic form of the stochastic integral, with the stochastic volatility in the integrand. It's worth noting, as the stochastic volatility and the temperature process are driven by independent, uncorrelated, brownian motions, the integrand is independent of the increments. $(S_{t}~{\\perp \\!\\!\\! \\perp} ~dW_{t}^{(1)})$.\n",
    "\n",
    "Can I use Ito's Isometry to find the variance of $\\int_{0}^{t} S_{s} e^{-\\alpha(s - t)} ds$,\n",
    "\n",
    "$$ \\mathbb{V}\\left[ \\int_{0}^{t} S_{s} e^{-\\alpha(s - t)} dW_{s} \\right] \\overset{(?)}{=} \\int_{0}^{t} \\mathbb{E}\\left[ \\left(S_{s} e^{-\\alpha(s - t)} \\right)^{2} \\right] ds = \\int_{0}^{t} \\sigma^{2}(s) e^{-2\\alpha(s - t)} ds .$$\n",
    "\n",
    "Have I abused notation here, is the variance taken with respect to the probability space of the driving brownian motion and not with respect to the randomness of the integrand ($S_{t}$)?\n",
    "\n",
    "However, even if this approach is valid, as the integrand is not determinsitic, I cannot find any theorems in the literature which show that this integral Gaussian (which in fairness I do not expect it to be), or even follows any known distribution."
   ]
  },
  {
   "cell_type": "markdown",
   "metadata": {},
   "source": [
    "# 3. Integrate\n",
    "\n",
    "Finally we can consider the following,\n",
    "\n",
    "\\begin{align*}\n",
    "    e^{-\\alpha t} \\int_{0}^{t} S_{s} e^{\\alpha s} dW_{s} \n",
    "    & = e^{-\\alpha t} \\int_{0}^{t} e^{-\\beta s} Z_{s} e^{\\alpha s} dW_{s} & Z_{t} = e^{\\beta t}Z_{t} \\\\\n",
    "    & = e^{-\\alpha t}\\int_{0}^{t} \\left(Z_{0} + \\int_{0}^{s} dZ_{\\gamma}\\right) e^{(\\alpha - \\beta) s} dW_{s} & Z_{s} = Z_{0} + \\int_{0}^{s}dZ_{\\gamma} \\\\\n",
    "    & = e^{-\\alpha t}\\int_{0}^{t} \\left(Z_{0} + e^{\\beta t} \\sigma(t) - \\sigma(0) + \\chi\\cdot\\sqrt{2\\beta} \\int_{0}^{s} e^{\\beta \\gamma} dW_{\\gamma}\\right) e^{(\\alpha - \\beta) s} dW_{s} \\\\\n",
    "    & = e^{-\\alpha t}\\int_{0}^{t} \\left(e^{\\beta s} \\sigma(s) + \\chi\\cdot\\sqrt{2\\beta} \\int_{0}^{s} e^{\\beta \\gamma} dW_{\\gamma}\\right) e^{(\\alpha - \\beta) s} dW_{s} & Z_{0} = \\sigma(0) \\\\\n",
    "    & = e^{-\\alpha t}\\int_{0}^{t} \\left(e^{\\beta s} \\sigma(s) + \\chi\\cdot\\sqrt{2\\beta} \\int_{0}^{s} e^{\\beta \\gamma} dW_{\\gamma}\\right) e^{(\\alpha - \\beta) s} dW_{s} \\\\\n",
    "    & = e^{-\\alpha t} \\int_{0}^{t} \\sigma(s) e^{\\alpha s} dW_{s} + e^{-\\alpha t} \\chi\\cdot\\sqrt{2\\beta} \\int_{0}^{t} \\int_{0}^{s} e^{\\beta \\gamma} dW_{\\gamma} e^{(\\alpha - \\beta) s} dW_{s}\n",
    "\\end{align*}\n",
    "\n"
   ]
  },
  {
   "cell_type": "markdown",
   "metadata": {},
   "source": [
    "Now, considering these two quantities, we know the first integral is Gaussian. Using expectation properties of Ito stochastic integrals, we know this to be mean zero and the expectation is given by Ito's Isometry. \n",
    "\n",
    "$$ e^{-\\alpha t} \\int_{0}^{t} \\sigma(s) e^{\\alpha s} dW_{s} \\sim N(0, e^{-2 \\alpha t}\\int_{0}^{t} \\sigma^{2}(s) e^{2\\alpha s} ds). $$\n",
    "\n",
    "Given $\\sigma(t)$ is known, and furthermore, in our case polynomial, this can be determined analytically.\n",
    "Therefore, it remains to consider the final term, \n",
    "\n",
    "$$ e^{-\\alpha t} \\chi\\cdot\\sqrt{2\\beta} \\int_{0}^{t} \\int_{0}^{s} e^{\\beta \\gamma} dW_{\\gamma} e^{(\\alpha - \\beta) s} dW_{s} $$\n",
    "\n",
    "Considering only the integrand of the outer integral,\n",
    "\\begin{align*}\n",
    " e^{(\\alpha - \\beta) s} \\int_{0}^{s} e^{\\beta \\gamma} dW_{\\gamma} &\\sim e^{(\\alpha - \\beta) s} N\\left(0, \\int_{0}^{s} e^{2\\beta \\gamma} d\\gamma \\right) \\\\\n",
    " &\\sim e^{(\\alpha - \\beta) s} N\\left(0, \\frac{1}{2\\beta} (e^{2 \\beta s} - 1)\\right) \\\\\n",
    " &\\sim e^{\\alpha s} N\\left(0, \\frac{1}{2\\beta} (1 - e^{-2 \\beta s})\\right) &&= e^{\\alpha s} \\frac{1}{\\sqrt{2\\beta}} W_{1 - e^{-2\\beta s}} & (&\\text{Relation between space and time rescaling of BM})\n",
    "\\end{align*}"
   ]
  },
  {
   "cell_type": "markdown",
   "metadata": {},
   "source": [
    "So now, considering the full quantity,\n",
    "\n",
    "\\begin{align*}\n",
    "    e^{-\\alpha t} \\chi\\cdot\\sqrt{2\\beta} \\int_{0}^{t} \\int_{0}^{s} e^{\\beta \\gamma} dW_{\\gamma} e^{(\\alpha - \\beta) s} dW_{s} &= e^{-\\alpha t} \\chi \\int_{0}^{t} e^{\\alpha s} W_{1-e^{-2\\beta s}} dW_{s} \\\\\n",
    "    &= e^{-\\alpha t} \\chi \\int_{0}^{t} e^{\\alpha s} \\sqrt{1-e^{-2\\beta s}} W_{1} dW_{s} & (\\text{Time Rescaling of integrand BM}) \\\\\n",
    "    &= W_{\\chi^{2}}e^{-\\alpha t} \\int_{0}^{t} e^{\\alpha s} \\sqrt{1-e^{-2\\beta s}} dW_{s} \\\\\n",
    "    &= W_{\\chi^{2}} e^{-\\alpha t} N\\left(0, \\int_{0}^{t} e^{2\\alpha s} (1-e^{-2\\beta s}) ds \\right). & (\\text{Ito's Isometry}) \\\\\n",
    "    \\int_{0}^{t} e^{2\\alpha s} (1-e^{-2\\beta s}) ds &= \\int_{0}^{t} e^{2\\alpha s} ds - \\int_{0}^{t} e^{2(\\alpha - \\beta) s} ds \\\\\n",
    "    &= \\frac{1}{2\\alpha}\\left( e^{2 \\alpha t} - 1\\right) - \\frac{1}{2(\\alpha - \\beta)} (e^{2(\\alpha - \\beta) t} - 1) \\\\\n",
    "    &= \\frac{{\\alpha - e^{-2 t \\beta} \\alpha - \\beta + e^{-2 t \\alpha} \\beta}}{{2 \\alpha^2 - 2 \\alpha \\beta}} = \\frac{1}{2\\alpha}\\frac{{\\alpha - e^{-2 t \\beta} \\alpha - \\beta + e^{-2 t \\alpha} \\beta}}{{\\alpha - \\beta}} \\\\\n",
    "    &= \\frac{1}{2\\alpha}\\left(1 - \\frac{e^{-2 t \\beta} \\alpha - e^{-2 t \\alpha} \\beta}{\\alpha - \\beta} \\right) \\to \\frac{1}{2\\alpha} \\text{ as } t \\to \\infty \\text{ (*)}.\n",
    "\\end{align*}\n",
    "(*), this observation is not particularly relevant as we wish to model usually just the following season\n",
    "\n",
    "$$ \\implies e^{-\\alpha t} \\chi\\cdot\\sqrt{2\\beta} \\int_{0}^{t} \\int_{0}^{s} e^{\\beta \\gamma} dW_{\\gamma} e^{(\\alpha - \\beta) s} dW_{s} = W_{\\chi^{2}} N\\left(0, \\frac{1}{2\\alpha}\\left(1 - \\frac{e^{-2 t \\beta} \\alpha - e^{-2 t \\alpha} \\beta}{\\alpha - \\beta} \\right)\\right) = N(0, \\chi^{2})\\cdot N\\left(0, \\frac{1}{2\\alpha}\\left(1 - \\frac{e^{-2 t \\beta} \\alpha - e^{-2 t \\alpha} \\beta}{\\alpha - \\beta} \\right)\\right). $$\n"
   ]
  },
  {
   "cell_type": "markdown",
   "metadata": {},
   "source": [
    "Note, if $\\alpha = \\beta$ then we have no issues in our variance term, which resolves to equal $1/2\\alpha$.\n",
    "\n",
    "Therefore, with the scale factor of $\\sqrt{2\\alpha}$ as the coefficient of the diffusion term in the original formulation, we arrive at our analytic distribution of $T_{t}$ under the stochastic volatility model,\n",
    "\n",
    "$$T_{t} \\sim N\\left(\\mu(t), 2\\alpha \\int_{0}^{t} \\sigma^{2}(s) e^{2\\alpha (s-t)} ds \\right) + N(0, \\chi^{2})\\cdot N\\left(0, 1 - \\frac{e^{-2 t \\beta} \\alpha - e^{-2 t \\alpha} \\beta}{\\alpha - \\beta} \\right).$$\n",
    "\n",
    "## Discussion, how to determine $\\alpha$\n",
    "\n",
    "The quantity, $\\int_{0}^{t} \\sigma^{2}(s) e^{2\\alpha (s-t)} ds$, has some interpretation as an exponential weighted average of the recent variances, the weighting is determined by the reversion parameter, $\\alpha$, which is found by fitting an auto-regressive model to the residuals and therefore accounts for previous volatilties. The coefficient of $2\\alpha$ normalises these weights as $\\int_{0}^{t} e^{2\\alpha (s-t)} ds = \\frac{1}{2\\alpha}\\left( 1 - e^{-2\\alpha t}\\right) \\approx \\frac{1}{2\\alpha}$. Indeed, if we consider the discretisation of the integral into unit time steps, as in the Euler Maryuama scheme,\n",
    "\n",
    "$$ \\int_{0}^{t} \\sigma^{2}(s) e^{2\\alpha(s-t)} ds \\approx \\sigma^{2}(t) + \\sigma^{2}(t-1) e^{-2\\alpha} + \\sigma^{2}(t-2)e^{-2\\alpha \\cdot 2} + \\dots + \\sigma^{2}(0) e^{-2 \\alpha \\cdot t} = \\sum_{s = 0}^{t} \\sigma^{2}(s) \\left( e ^{-2 \\alpha} \\right)^{s}.$$\n",
    "\n",
    "As greater $\\alpha$ corresponds to a faster decay of the previous variances, in this discretisation, the relative weighting of the first term $\\sigma^{2}(t)$ is given by,\n",
    "\n",
    "$$ \\frac{1}{\\sum_{s=0}^{t} \\left(e^{2\\alpha} \\right)^{s}} = \\frac{1 + \\sum_{s = 1}^{t} \\left( e^{-2\\alpha} \\right)^{s}}{\\sum_{s = 0}^{t} \\left( e^{-2\\alpha} \\right)^{s}} - \\frac{\\sum_{s = 1}^{t} \\left( e^{-2\\alpha} \\right)^{s}}{\\sum_{s = 0}^{t} \\left( e^{-2\\alpha} \\right)^{s}} = 1 - \\left(e^{-2\\alpha}\\right) \\frac{\\sum_{s = 0}^{t-1} \\left( e^{-2\\alpha} \\right)^{s}}{\\sum_{s = 0}^{t} \\left( e^{-2\\alpha} \\right)^{s}} = 1 - \\left(e^{-2\\alpha} \\right) \\frac{e^{2\\alpha t} - 1}{e^{2\\alpha(t+1)} - 1}.$$\n",
    "\n",
    "\n",
    "Considering the $\\underset{\\alpha \\to \\infty}{\\lim}$ (and applying L'Hopital's Rule),\n",
    "\n",
    "$$ \\underset{\\alpha \\to \\infty}{\\lim} \\left(\\frac{2^{2\\alpha t} - 1}{e^{2\\alpha(t+1)} - 1}\\right) = \\frac{1}{e} \\implies \\underset{\\alpha \\to \\infty}{\\lim} \\frac{1}{\\sum_{s=0}^{t} \\left(e^{2\\alpha} \\right)^{s}} =\\underset{\\alpha \\to \\infty}{\\lim} 1 - e^{-2\\alpha}\\cdot \\frac{1}{e} = 1. $$\n",
    "\n",
    "Therefore, a large $\\alpha$ acts as a memory eraser of the stochastic process, leading to,\n",
    "\n",
    "$$ \\underset{\\alpha \\to \\infty}{\\lim} T_{t} \\sim N(\\mu(t), \\sigma^{2}(t)) + N(0, \\chi^{2})N(0, 1).$$\n",
    "\n",
    "Care should be taken however as in discretising the process, a larger $\\alpha$ will cause large jumps in the discretisation and therefore we require a small $dt$.\n",
    "\n",
    "This should be avoided however, indeed if we are aiming to reduce our stochastic process to independent samples of $N(\\mu(t), \\sigma^{2}(t))$ we can just sample these distributions directly. Instead if we determine $\\alpha$ as follows, we can account for the serial correlations in the time series, better modelling the auto-correlations in the residuals of the weather dynamics."
   ]
  },
  {
   "cell_type": "markdown",
   "metadata": {},
   "source": [
    "# Todos\n",
    "\n",
    "- Investigate the final term, make some plots, look at the distirbution and some things online\n",
    "- Verify result with Monte Carlo simulations\n",
    "- Follow preimise of the other paper to get analytic pricing form\n",
    "- Market Price of Risk $\\lambda$ on similar to that paper under our model (Collect data from the same US weather stations)\n",
    "- Plan next week correlations and introduce basis risk"
   ]
  },
  {
   "cell_type": "code",
   "execution_count": 2,
   "metadata": {},
   "outputs": [],
   "source": [
    "import numpy as np\n",
    "import matplotlib.pyplot as plt\n",
    "import scipy\n",
    "from matplotlib.animation import FuncAnimation\n",
    "from matplotlib.animation import PillowWriter\n",
    "from scipy.stats import gaussian_kde\n"
   ]
  },
  {
   "cell_type": "code",
   "execution_count": 3,
   "metadata": {},
   "outputs": [],
   "source": [
    "def std_fun(t, alpha=1.5, beta=0.5):\n",
    "    return np.sqrt(1 - ((np.exp(-2 * t * beta) * alpha - np.exp(-2 * t * alpha) * beta)/(alpha - beta)))"
   ]
  },
  {
   "cell_type": "markdown",
   "metadata": {},
   "source": [
    "# Noise term\n",
    "\n",
    "We now focus on the final term of our fomulation, $N(0, \\chi^{2})\\cdot N\\left(0, 1 - \\frac{e^{-2 t \\beta} \\alpha - e^{-2 t \\alpha} \\beta}{\\alpha - \\beta} \\right)$. We start considering when $t$ is large and the problem simplifies to $N(0, \\chi^{2})\\cdot N(0, 1)$."
   ]
  },
  {
   "cell_type": "code",
   "execution_count": 7,
   "metadata": {},
   "outputs": [
    {
     "data": {
      "image/png": "[encoded data removed]",
      "text/plain": [
       "<Figure size 640x480 with 1 Axes>"
      ]
     },
     "metadata": {},
     "output_type": "display_data"
    }
   ],
   "source": [
    "N = 2_500\n",
    "epsilon = 1e-4\n",
    "us = np.linspace(epsilon, 1.0-epsilon, N)\n",
    "zs = scipy.stats.norm.ppf(us)\n",
    "samples = np.outer(zs, zs).flatten()\n",
    "\n",
    "# Parameters\n",
    "n_frames = 100\n",
    "data_length = 1000\n",
    "bins = 300\n",
    "\n",
    "# Set up the figure, axis, and histogram\n",
    "fig, ax = plt.subplots(1)\n",
    "counts, bins, _ = ax.hist(samples, bins=bins, density=True, stacked=True)\n",
    "midpoints = 0.5 * (bins[1:] + bins[:-1])\n",
    "x_interp = np.linspace(midpoints[0], midpoints[-1], 500)\n",
    "y_interp = np.interp(x_interp, midpoints, counts)\n",
    "\n",
    "# Initialization function\n",
    "def init():\n",
    "    ax.clear()\n",
    "    ax.hist(samples * std_fun(0), bins=bins, density=True, stacked=True)\n",
    "    ax.set_xlim(-6, 6)\n",
    "    ax.set_ylim(0, 2)\n",
    "    ax.plot(x_interp, y_interp, '-r', label='Limiting Distribution', alpha=0.75)\n",
    "    ax.legend()\n",
    "\n",
    "# Update function\n",
    "def update(frame):\n",
    "    ax.clear()\n",
    "    ax.hist(samples * std_fun(frame/10), bins=bins, density=True, stacked=True)\n",
    "    ax.set_title(f\"$t ={frame/10}$\")\n",
    "    ax.set_xlim(-6, 6)\n",
    "    ax.set_ylim(0, 2)\n",
    "    ax.plot(x_interp, y_interp, '-r', label='Limiting Distribution', alpha=0.75)\n",
    "    ax.legend()\n",
    "    \n",
    "# Create animation\n",
    "ani = FuncAnimation(fig, update, frames=n_frames, init_func=init, repeat=False)\n",
    "ani.save(\"animation.gif\", writer=PillowWriter(fps=5))"
   ]
  },
  {
   "cell_type": "markdown",
   "metadata": {},
   "source": [
    "In this animation we see, even after just a small burn-in period of $2$ days, this noise term quickly approaches its stationary distribution. Therefore, if we burn in our stochastic process, we find,\n",
    "\n",
    "$$ T_{t} \\approx N\\left(\\mu(t), \\int_{0}^{t} \\sigma^{2}(s)e^{-2\\alpha (s - t)}ds\\right) + N(0, \\chi^{2})N(0, 1). $$"
   ]
  },
  {
   "cell_type": "markdown",
   "metadata": {},
   "source": [
    "# Variance of extra term\n",
    "\n",
    "Let $X ~ N(0, \\chi^{2})$, $Y\\sim N(0, 1)$. These are mean zero, independent, stochastic processes. We can show therefore,\n",
    "\n",
    "$$ \\mathbb{E}[XY] = \\mathbb{E}[X]\\mathbb{E}[Y] = 0 \\cdot 0 = 0. $$\n",
    "\n",
    "\\begin{align*}\n",
    "    \\mathbb{V}[XY] &= \\mathbb{E}[(XY)^{2}] - (\\mathbb{E}[XY])^{2} = \\mathbb{E}[X^{2}]\\mathbb{E}[Y^{2}] - (\\mathbb{E}[XY])^{2} = (\\mathbb{V}[X] + (\\mathbb{E}[X])^{2}) (\\mathbb{V}[Y] + (\\mathbb{E}[Y])^{2}) - (\\mathbb{E}[XY])^{2} \\\\ \n",
    "    &= \\mathbb{V}[X]\\mathbb{V}[Y] + \\mathbb{V}[X]\\mathbb{E}[Y^{2}] + \\mathbb{V}[Y]\\mathbb{E}[X^{2}] + \\mathbb{E}[X^{2}]\\mathbb{E}[Y^{2}] - (\\mathbb{E}[XY])^{2} = \\mathbb{V}[X]\\mathbb{V}[Y].\n",
    "\\end{align*}\n",
    "As $X,~Y$ are independent, mean zero. Furthermore, as the increments are independent, we have the two terms are independent, therefore the variance of $T_{t}$ is given by,\n",
    "\n",
    "## Variance of the full process\n",
    "\n",
    "$$ \\mathbb{V}[T_{t}] = \\frac{1}{2\\alpha} \\int_{0}^{t} \\sigma^{2}(s) e^{2\\alpha (s - t)} ds + \\chi^{2} \\left(1 - \\frac{e^{-2 t \\beta} \\alpha - e^{-2 t \\alpha} \\beta}{\\alpha-\\beta} \\right) \\approx \\frac{1}{2\\alpha} \\int_{0}^{t} \\sigma^{2}(s) e^{2\\alpha (s - t)} ds + \\chi^{2}. $$"
   ]
  },
  {
   "cell_type": "markdown",
   "metadata": {},
   "source": [
    "# Monte Carlo Simulations"
   ]
  },
  {
   "cell_type": "markdown",
   "metadata": {},
   "source": [
    "# Analytic Pricing"
   ]
  },
  {
   "cell_type": "markdown",
   "metadata": {},
   "source": [
    "# Risk Neutral Pricing"
   ]
  },
  {
   "cell_type": "markdown",
   "metadata": {},
   "source": [
    "# Basis Risk and Correlation Pricing"
   ]
  }
 ],
 "metadata": {
  "kernelspec": {
   "display_name": "urop-env",
   "language": "python",
   "name": "python3"
  },
  "language_info": {
   "codemirror_mode": {
    "name": "ipython",
    "version": 3
   },
   "file_extension": ".py",
   "mimetype": "text/x-python",
   "name": "python",
   "nbconvert_exporter": "python",
   "pygments_lexer": "ipython3",
   "version": "3.11.4"
  },
  "orig_nbformat": 4
 },
 "nbformat": 4,
 "nbformat_minor": 2
}
