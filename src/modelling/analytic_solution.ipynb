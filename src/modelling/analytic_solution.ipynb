{
 "cells": [
  {
   "cell_type": "markdown",
   "metadata": {},
   "source": [
    "## Analytic Solution to Temperature Model\n",
    "\n",
    "$$ \\left( \\begin{array}{c} dT_t \\\\ dS_{t} \\\\ \\end{array} \\right) = \\left( \\begin{array}{c} \\dot{\\mu}(t) + \\alpha(\\mu(t) - T_{t}) \\\\ \\dot{\\sigma}(t) + \\beta(\\sigma(t) - S_{t}) \\\\ \\end{array} \\right) dt + \\left( \\begin{array}{c} S_{t} \\cdot \\sqrt{2\\alpha} & 0 \\\\ 0 & \\chi \\cdot \\sqrt{2\\beta} \\\\ \\end{array} \\right) \\left( \\begin{array}{c} dW^{(1)}_{t} \\\\ dW^{(2)}_{t} \\\\ \\end{array} \\right)$$\n",
    "$$ S_{0} \\sim N(\\sigma(0), \\chi^{2}) $$\n",
    "\n",
    "It is fairly easy to show that, even for this time-dependent Ornstein-Ulhenbeck process, $S_{t} \\sim N(\\sigma(t), \\chi^{2})$,\n",
    "\n",
    "\\begin{align*}\n",
    "    & dS_{t} = \\left[\\dot{\\sigma}(t) + \\beta (\\sigma(t) - S_{t}) \\right] dt + \\chi \\cdot \\sqrt{2 \\beta}~dW_{t}, \\\\\n",
    "    & dZ_{t} = \\left[\\beta S_{t} e^{\\beta t} + \\beta e^{\\beta t} \\left(\\sigma(t) - S_{t}\\right) + e^{\\beta t} \\dot{\\sigma}(t) \\right] dt + \\chi \\cdot \\sqrt{2 \\beta} e^{\\beta t} dW_{t}, & (\\text{Itô's Lemma, } Z_{t} = S_{t}e^{\\beta t}) \\\\\n",
    "    & dZ_{t} = \\left[\\beta e^{\\beta t} \\sigma(t) + e^{\\beta t} \\dot{\\sigma}(t) \\right] dt + \\chi \\cdot \\sqrt{2 \\beta} e^{\\beta t} dW_{t}, \\\\\n",
    "    & \\int_{0}^{t} dZ_{s} = Z_{t} - Z_{0} = \\beta \\int_{0}^{t} e^{\\beta s}\\sigma(s) ds + \\int_{0}^{t} e^{\\beta s} \\dot{\\sigma}(s) ds + \\chi\\cdot\\sqrt{2\\beta} \\int_{0}^{t} e^{\\beta s} dW_{s}, \\\\\n",
    "    & Z_{t} - Z_{0} = e^{\\beta t} \\sigma(t) - \\sigma(0) + \\chi\\cdot\\sqrt{2\\beta} \\int_{0}^{t} e^{\\beta s} dW_{s}, \\\\\n",
    "    & S_{t} e^{\\beta t} = S_{0} + e^{\\beta t} \\sigma(t) - \\sigma(0) + \\chi\\cdot\\sqrt{2\\beta} \\int_{0}^{t} e^{\\beta s} dW_{s}, \\\\\n",
    "    & S_{t} = \\sigma(t) + e^{-\\beta t} (S_{0} - \\sigma(0)) + \\chi\\cdot\\sqrt{2\\beta} \\int_{0}^{t} e^{\\beta (s-t)} dW_{s}.\n",
    "\\end{align*}\n",
    "\n",
    "Considering now the quantity, $\\int_{0}^{t} e^{\\beta (s-t)} dW_{s}$, as the integrand is deterministic, this is Gaussian, with mean $0$ and variance\n",
    "\n",
    "\\begin{align*}\n",
    "\\mathbb{V}\\left[ \\int_{0}^{t} e^{\\beta (s-t)} dW_{s} \\right] &= \\int_{0}^{t} \\mathbb{E}\\left[\\left(e^{\\beta (s-t)}\\right)^{2}\\right] ds & \\text{(Ito's Isometry)} \\\\\n",
    "& = \\frac{1}{2\\beta} (1 - e^{-2\\beta t}) \\\\\n",
    "&\\implies \\chi\\cdot\\sqrt{2\\beta} \\int_{0}^{t} e^{\\beta (s-t)} dW_{s} \\sim N(0, \\chi^{2}(1 - e^{-2 \\beta t}))\\\\\n",
    "&\\implies \\mathbb{V}[S_{t}] = e^{-2 \\beta t} \\mathbb{V}[S_{0}] + \\chi^{2}(1 - e^{-2 \\beta t})\\\\\n",
    " \\mathbb{V}[S_{0}] = \\chi^{2} &\\implies \\mathbb{V}[S_{t}] = \\chi^{2}.\n",
    "\\end{align*}\n"
   ]
  },
  {
   "cell_type": "markdown",
   "metadata": {},
   "source": [
    "We now aim to derive an analytic form of the temperature $T_{t}$ driven by stochastic standard deviation,\n",
    "\n",
    "There are a number of ways I will attempt to do this,\n",
    "\n",
    "# 1. Expectation over the path space\n",
    "\n",
    "If we consider a single path realisation, $\\omega$, of the stochastic volatility, which we denote by $S_{t}^{\\omega}$. Under this path realisation, we have a deterministic system,\n",
    "\n",
    "\\begin{align*}\n",
    "    & dT_{t} = \\left[\\dot{\\mu}(t) + \\alpha (\\mu(t) - T_{t}) \\right] dt + \\sqrt{2\\alpha} S_{t}^{\\omega}~dW_{t}, \\\\\n",
    "    & dY_{t} = \\left[\\alpha T_{t} e^{\\alpha t} + \\alpha e^{\\alpha t} \\left(\\mu(t) - T_{t}\\right) + e^{\\alpha t} \\dot{\\mu}(t) \\right] dt + \\sqrt{2\\alpha} S_{t}^{\\omega} e^{\\alpha t} dW_{t}, & (\\text{Itô's Lemma, } Y_{t} = T_{t}e^{\\alpha t}) \\\\\n",
    "    & dY_{t} = \\left[\\alpha e^{\\alpha t} \\mu(t) + e^{\\alpha t} \\dot{\\mu}(t) \\right] dt + \\sqrt{2\\alpha} S_{t}^{\\omega}e^{\\alpha t} dW_{t}, \\\\\n",
    "    & \\int_{0}^{t} dY_{s} = Y_{t} - Y_{0} = \\alpha \\int_{0}^{t} e^{\\alpha s}\\mu(s) ds + \\int_{0}^{t} e^{\\alpha s} \\dot{\\mu}(s) ds + \\sqrt{2\\alpha} \\int_{0}^{t} e^{\\alpha s} S_{s}^{\\omega} dW_{s}, \\\\\n",
    "    & Y_{t} - Y_{0} = e^{\\alpha t} \\mu(t) - \\mu(0) + \\sqrt{2\\alpha} \\int_{0}^{t} e^{\\alpha s} S_{s}^{\\omega} dW_{s}, \\\\\n",
    "    & T_{t} e^{\\alpha t} = T_{0} + e^{\\alpha t} \\mu(t) - \\mu(0) + \\sqrt{2\\alpha} \\int_{0}^{t} S_{t}^{\\omega} e^{\\alpha s} dW_{s}, \\\\\n",
    "    & T_{t} = \\mu(t) + e^{-\\alpha t} (T_{0} - \\mu(0)) + \\sqrt{2\\alpha} \\int_{0}^{t} S_{s}^{\\omega} e^{\\alpha (s-t)} dW_{s}.\n",
    "\\end{align*}"
   ]
  },
  {
   "cell_type": "markdown",
   "metadata": {},
   "source": [
    "Naturally, we initialise $T_{0} = \\mu(0)$. Therefore, under this instance of the stochastic volatility, we have a deterministic integrand, therefore we can apply Ito's Isometry in a similar manner to before.\n",
    "\n",
    "$$ T_{t} | \\omega \\sim N\\left(\\mu(t), \\sqrt{2\\alpha} \\cdot e^{-2\\alpha t} \\int_{0}^{t} \\left( S_{s}^{\\omega} e^{\\alpha s} \\right)^{2} ds\\right) $$\n",
    "\n",
    "Now, to get the marginal distribution, of $T_{t}$ we can take an expectation over the path realisations,\n",
    "\n",
    "$$ T_{t} \\sim \\mathbb{E}_{\\omega}\\left[T_{t} | \\omega \\right]. $$\n",
    "\n",
    "Unfortunately, I'm not sure how to express this quantity further."
   ]
  },
  {
   "cell_type": "markdown",
   "metadata": {},
   "source": [
    "# 2. Ito's Isometry\n",
    "\n",
    "In this part, I attempt to use Ito's Isometry to find an analytic form of the stochastic integral, with the stochastic volatility in the integrand. It's worth noting, as the stochastic volatility and the temperature process are driven by independent, uncorrelated, brownian motions, the integrand is independent of the increments. $(S_{t}~{\\perp \\!\\!\\! \\perp} ~dW_{t}^{(1)})$.\n",
    "\n",
    "Can I use Ito's Isometry to find the variance of $\\int_{0}^{t} S_{s} e^{-\\alpha(s - t)} ds$,\n",
    "\n",
    "$$ \\mathbb{V}\\left[ \\int_{0}^{t} S_{s} e^{-\\alpha(s - t)} dW_{s} \\right] \\overset{(?)}{=} \\int_{0}^{t} \\mathbb{E}\\left[ \\left(S_{s} e^{-\\alpha(s - t)} \\right)^{2} \\right] ds = \\int_{0}^{t} \\sigma^{2}(s) e^{-2\\alpha(s - t)} ds .$$\n",
    "\n",
    "Have I abused notation here, is the variance taken with respect to the probability space of the driving brownian motion and not with respect to the randomness of the integrand ($S_{t}$)?\n",
    "\n",
    "However, even if this approach is valid, as the integrand is not determinsitic, I cannot find any theorems in the literature which show that this integral Gaussian (which in fairness I do not expect it to be), or even follows any known distribution."
   ]
  },
  {
   "cell_type": "markdown",
   "metadata": {},
   "source": [
    "# 3. Integrate\n",
    "\n",
    "Finally we can consider the following,\n",
    "\n",
    "\\begin{align*}\n",
    "    e^{-\\alpha t} \\int_{0}^{t} S_{s} e^{\\alpha s} dW_{s} \n",
    "    & = e^{-\\alpha t} \\int_{0}^{t} e^{-\\beta s} Z_{s} e^{\\alpha s} dW_{s} & Z_{t} = e^{\\beta t}Z_{t} \\\\\n",
    "    & = e^{-\\alpha t}\\int_{0}^{t} \\left(Z_{0} + \\int_{0}^{s} dZ_{\\gamma}\\right) e^{(\\alpha - \\beta) s} dW_{s} & Z_{s} = Z_{0} + \\int_{0}^{s}dZ_{\\gamma} \\\\\n",
    "    & = e^{-\\alpha t}\\int_{0}^{t} \\left(Z_{0} + e^{\\beta t} \\sigma(t) - \\sigma(0) + \\chi\\cdot\\sqrt{2\\beta} \\int_{0}^{s} e^{\\beta \\gamma} dW_{\\gamma}\\right) e^{(\\alpha - \\beta) s} dW_{s} \\\\\n",
    "    & = e^{-\\alpha t}\\int_{0}^{t} \\left(e^{\\beta s} \\sigma(s) + \\chi\\cdot\\sqrt{2\\beta} \\int_{0}^{s} e^{\\beta \\gamma} dW_{\\gamma}\\right) e^{(\\alpha - \\beta) s} dW_{s} & Z_{0} = \\sigma(0) \\\\\n",
    "    & = e^{-\\alpha t}\\int_{0}^{t} \\left(e^{\\beta s} \\sigma(s) + \\chi\\cdot\\sqrt{2\\beta} \\int_{0}^{s} e^{\\beta \\gamma} dW_{\\gamma}\\right) e^{(\\alpha - \\beta) s} dW_{s} \\\\\n",
    "    & = e^{-\\alpha t} \\int_{0}^{t} \\sigma(s) e^{\\alpha s} dW_{s} + e^{-\\alpha t} \\chi\\cdot\\sqrt{2\\beta} \\int_{0}^{t} \\int_{0}^{s} e^{\\beta \\gamma} dW_{\\gamma} e^{(\\alpha - \\beta) s} dW_{s}\n",
    "\\end{align*}\n",
    "\n"
   ]
  },
  {
   "cell_type": "markdown",
   "metadata": {},
   "source": [
    "Now, considering these two quantities, we know the first integral is Gaussian. Using expectation properties of Ito stochastic integrals, we know this to be mean zero and the expectation is given by Ito's Isometry. \n",
    "\n",
    "$$ e^{-\\alpha t} \\int_{0}^{t} \\sigma(s) e^{\\alpha s} dW_{s} \\sim N(0, e^{-2 \\alpha t}\\int_{0}^{t} \\sigma^{2}(s) e^{2\\alpha s} ds). $$\n",
    "\n",
    "Given $\\sigma(t)$ is known, and furthermore, in our case polynomial, this can be determined analytically.\n",
    "Therefore, it remains to consider the final term, \n",
    "\n",
    "$$ e^{-\\alpha t} \\chi\\cdot\\sqrt{2\\beta} \\int_{0}^{t} \\int_{0}^{s} e^{\\beta \\gamma} dW_{\\gamma} e^{(\\alpha - \\beta) s} dW_{s} $$\n",
    "\n",
    "Considering only the integrand of the outer integral,\n",
    "\\begin{align*}\n",
    " e^{(\\alpha - \\beta) s} \\int_{0}^{s} e^{\\beta \\gamma} dW_{\\gamma} &\\sim e^{(\\alpha - \\beta) s} N\\left(0, \\int_{0}^{s} e^{2\\beta \\gamma} d\\gamma \\right) \\\\\n",
    " &\\sim e^{(\\alpha - \\beta) s} N\\left(0, \\frac{1}{2\\beta} (e^{2 \\beta s} - 1)\\right) \\\\\n",
    " &\\sim e^{\\alpha s} N\\left(0, \\frac{1}{2\\beta} (1 - e^{-2 \\beta s})\\right) &&= e^{\\alpha s} \\frac{1}{\\sqrt{2\\beta}} W_{1 - e^{-2\\beta s}} & (&\\text{Relation between space and time rescaling of BM})\n",
    "\\end{align*}"
   ]
  },
  {
   "cell_type": "markdown",
   "metadata": {},
   "source": [
    "So now, considering the full quantity,\n",
    "\n",
    "\\begin{align*}\n",
    "    e^{-\\alpha t} \\chi\\cdot\\sqrt{2\\beta} \\int_{0}^{t} \\int_{0}^{s} e^{\\beta \\gamma} dW_{\\gamma} e^{(\\alpha - \\beta) s} dW_{s} &= e^{-\\alpha t} \\chi \\int_{0}^{t} e^{\\alpha s} W_{1-e^{-2\\beta s}} dW_{s} \\\\\n",
    "    &= e^{-\\alpha t} \\chi \\int_{0}^{t} e^{\\alpha s} \\sqrt{1-e^{-2\\beta s}} W_{1} dW_{s} & (\\text{Time Rescaling of integrand BM}) \\\\\n",
    "    &= W_{\\chi^{2}}e^{-\\alpha t} \\int_{0}^{t} e^{\\alpha s} \\sqrt{1-e^{-2\\beta s}} dW_{s} \\\\\n",
    "    &= W_{\\chi^{2}} e^{-\\alpha t} N\\left(0, \\int_{0}^{t} e^{2\\alpha s} (1-e^{-2\\beta s}) ds \\right). & (\\text{Ito's Isometry}) \\\\\n",
    "    \\int_{0}^{t} e^{2\\alpha s} (1-e^{-2\\beta s}) ds &= \\int_{0}^{t} e^{2\\alpha s} ds - \\int_{0}^{t} e^{2(\\alpha - \\beta) s} ds \\\\\n",
    "    &= \\frac{1}{2\\alpha}\\left( e^{2 \\alpha t} - 1\\right) - \\frac{1}{2(\\alpha - \\beta)} (e^{2(\\alpha - \\beta) t} - 1) \\\\\n",
    "    &= \\frac{{\\alpha - e^{-2 t \\beta} \\alpha - \\beta + e^{-2 t \\alpha} \\beta}}{{2 \\alpha^2 - 2 \\alpha \\beta}} = \\frac{1}{2\\alpha}\\frac{{\\alpha - e^{-2 t \\beta} \\alpha - \\beta + e^{-2 t \\alpha} \\beta}}{{\\alpha - \\beta}} \\\\\n",
    "    &= \\frac{1}{2\\alpha}\\left(1 - \\frac{e^{-2 t \\beta} \\alpha - e^{-2 t \\alpha} \\beta}{\\alpha - \\beta} \\right) \\to \\frac{1}{2\\alpha} \\text{ as } t \\to \\infty \\text{ (*)}.\n",
    "\\end{align*}\n",
    "(*), this observation is not particularly relevant as we wish to model usually just the following season\n",
    "\n",
    "$$ \\implies e^{-\\alpha t} \\chi\\cdot\\sqrt{2\\beta} \\int_{0}^{t} \\int_{0}^{s} e^{\\beta \\gamma} dW_{\\gamma} e^{(\\alpha - \\beta) s} dW_{s} = W_{\\chi^{2}} N\\left(0, \\frac{1}{2\\alpha}\\left(1 - \\frac{e^{-2 t \\beta} \\alpha - e^{-2 t \\alpha} \\beta}{\\alpha - \\beta} \\right)\\right) = N(0, \\chi^{2})\\cdot N\\left(0, \\frac{1}{2\\alpha}\\left(1 - \\frac{e^{-2 t \\beta} \\alpha - e^{-2 t \\alpha} \\beta}{\\alpha - \\beta} \\right)\\right). $$\n"
   ]
  },
  {
   "cell_type": "markdown",
   "metadata": {},
   "source": [
    "Note, if $\\alpha = \\beta$ then we have no issues in our variance term, which resolves to equal $1/2\\alpha$.\n",
    "\n",
    "Therefore, with the scale factor of $\\sqrt{2\\alpha}$ as the coefficient of the diffusion term in the original formulation, we arrive at our analytic distribution of $T_{t}$ under the stochastic volatility model,\n",
    "\n",
    "$$T_{t} \\sim N\\left(\\mu(t), 2\\alpha \\int_{0}^{t} \\sigma^{2}(s) e^{2\\alpha (s-t)} ds \\right) + N(0, \\chi^{2})\\cdot N\\left(0, 1 - \\frac{e^{-2 t \\beta} \\alpha - e^{-2 t \\alpha} \\beta}{\\alpha - \\beta} \\right).$$\n",
    "\n",
    "The quantity, $\\int_{0}^{t} \\sigma^{2}(s) e^{2\\alpha (s-t)} ds$, has some interpretation as an exponential weighted average of the recent variances, the weighting is determined by the reversion parameter, $\\alpha$, which is found by fitting an auto-regressive model to the residuals and therefore accounts for previous volatilties. The coefficient of $2\\alpha$ normalises these weights as $\\int_{0}^{t} e^{2\\alpha (s-t)} ds = \\frac{1}{2\\alpha}\\left( 1 - e^{-2\\alpha t}\\right) \\approx \\frac{1}{2\\alpha}$."
   ]
  }
 ],
 "metadata": {
  "language_info": {
   "name": "python"
  },
  "orig_nbformat": 4
 },
 "nbformat": 4,
 "nbformat_minor": 2
}
