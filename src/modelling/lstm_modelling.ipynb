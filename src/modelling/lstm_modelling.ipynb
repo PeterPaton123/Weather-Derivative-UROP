{
 "cells": [
  {
   "attachments": {},
   "cell_type": "markdown",
   "metadata": {},
   "source": [
    "# Long Short Term Memory Temperature Modelling\n",
    "\n",
    "To start with we will do some data preprocessing:"
   ]
  },
  {
   "cell_type": "code",
   "execution_count": 49,
   "metadata": {},
   "outputs": [],
   "source": [
    "import os\n",
    "import numpy as np\n",
    "from scipy import signal\n",
    "from scipy.stats import norm\n",
    "from scipy.ndimage import gaussian_filter\n",
    "from scipy.optimize import curve_fit\n",
    "import matplotlib.pyplot as plt\n",
    "import pandas as pd\n",
    "import netCDF4 as nc\n",
    "from datetime import datetime, timedelta\n",
    "\n",
    "THRESHOLD_TEMP = 18 + 1.0/3"
   ]
  },
  {
   "cell_type": "code",
   "execution_count": 50,
   "metadata": {},
   "outputs": [
    {
     "data": {
      "text/html": [
       "<div>\n",
       "<style scoped>\n",
       "    .dataframe tbody tr th:only-of-type {\n",
       "        vertical-align: middle;\n",
       "    }\n",
       "\n",
       "    .dataframe tbody tr th {\n",
       "        vertical-align: top;\n",
       "    }\n",
       "\n",
       "    .dataframe thead th {\n",
       "        text-align: right;\n",
       "    }\n",
       "</style>\n",
       "<table border=\"1\" class=\"dataframe\">\n",
       "  <thead>\n",
       "    <tr style=\"text-align: right;\">\n",
       "      <th></th>\n",
       "      <th>min</th>\n",
       "      <th>max</th>\n",
       "      <th>time</th>\n",
       "      <th>date</th>\n",
       "      <th>avg</th>\n",
       "    </tr>\n",
       "  </thead>\n",
       "  <tbody>\n",
       "    <tr>\n",
       "      <th>0</th>\n",
       "      <td>4.305863</td>\n",
       "      <td>6.601297</td>\n",
       "      <td>1402524.0</td>\n",
       "      <td>1960-01-01</td>\n",
       "      <td>5.453580</td>\n",
       "    </tr>\n",
       "    <tr>\n",
       "      <th>1</th>\n",
       "      <td>-1.411669</td>\n",
       "      <td>4.437036</td>\n",
       "      <td>1402548.0</td>\n",
       "      <td>1960-01-02</td>\n",
       "      <td>1.512684</td>\n",
       "    </tr>\n",
       "    <tr>\n",
       "      <th>2</th>\n",
       "      <td>-1.022055</td>\n",
       "      <td>9.284908</td>\n",
       "      <td>1402572.0</td>\n",
       "      <td>1960-01-03</td>\n",
       "      <td>4.131426</td>\n",
       "    </tr>\n",
       "    <tr>\n",
       "      <th>3</th>\n",
       "      <td>1.510127</td>\n",
       "      <td>8.090085</td>\n",
       "      <td>1402596.0</td>\n",
       "      <td>1960-01-04</td>\n",
       "      <td>4.800106</td>\n",
       "    </tr>\n",
       "    <tr>\n",
       "      <th>4</th>\n",
       "      <td>1.510083</td>\n",
       "      <td>5.732871</td>\n",
       "      <td>1402620.0</td>\n",
       "      <td>1960-01-05</td>\n",
       "      <td>3.621477</td>\n",
       "    </tr>\n",
       "    <tr>\n",
       "      <th>5</th>\n",
       "      <td>1.451583</td>\n",
       "      <td>6.028572</td>\n",
       "      <td>1402644.0</td>\n",
       "      <td>1960-01-06</td>\n",
       "      <td>3.740077</td>\n",
       "    </tr>\n",
       "    <tr>\n",
       "      <th>6</th>\n",
       "      <td>-0.571935</td>\n",
       "      <td>4.645021</td>\n",
       "      <td>1402668.0</td>\n",
       "      <td>1960-01-07</td>\n",
       "      <td>2.036543</td>\n",
       "    </tr>\n",
       "    <tr>\n",
       "      <th>7</th>\n",
       "      <td>-2.635523</td>\n",
       "      <td>4.546370</td>\n",
       "      <td>1402692.0</td>\n",
       "      <td>1960-01-08</td>\n",
       "      <td>0.955423</td>\n",
       "    </tr>\n",
       "    <tr>\n",
       "      <th>8</th>\n",
       "      <td>-0.143063</td>\n",
       "      <td>4.064202</td>\n",
       "      <td>1402716.0</td>\n",
       "      <td>1960-01-09</td>\n",
       "      <td>1.960569</td>\n",
       "    </tr>\n",
       "    <tr>\n",
       "      <th>9</th>\n",
       "      <td>-4.550033</td>\n",
       "      <td>4.936753</td>\n",
       "      <td>1402740.0</td>\n",
       "      <td>1960-01-10</td>\n",
       "      <td>0.193360</td>\n",
       "    </tr>\n",
       "  </tbody>\n",
       "</table>\n",
       "</div>"
      ],
      "text/plain": [
       "        min       max       time       date       avg\n",
       "0  4.305863  6.601297  1402524.0 1960-01-01  5.453580\n",
       "1 -1.411669  4.437036  1402548.0 1960-01-02  1.512684\n",
       "2 -1.022055  9.284908  1402572.0 1960-01-03  4.131426\n",
       "3  1.510127  8.090085  1402596.0 1960-01-04  4.800106\n",
       "4  1.510083  5.732871  1402620.0 1960-01-05  3.621477\n",
       "5  1.451583  6.028572  1402644.0 1960-01-06  3.740077\n",
       "6 -0.571935  4.645021  1402668.0 1960-01-07  2.036543\n",
       "7 -2.635523  4.546370  1402692.0 1960-01-08  0.955423\n",
       "8 -0.143063  4.064202  1402716.0 1960-01-09  1.960569\n",
       "9 -4.550033  4.936753  1402740.0 1960-01-10  0.193360"
      ]
     },
     "execution_count": 50,
     "metadata": {},
     "output_type": "execute_result"
    }
   ],
   "source": [
    "max_daily_dataset = nc.Dataset('../../datasets/tasmax_hadukgrid_uk_region_day_19600101-20211231.nc')\n",
    "min_daily_dataset = nc.Dataset('../../datasets/tasmin_hadukgrid_uk_region_day_19600101-20211231.nc')\n",
    "region = 10\n",
    "\n",
    "def convert_hours_to_datetime(hours):\n",
    "    base_date = datetime(1800, 1, 1, 0, 0, 0)  # Base date for the calculation\n",
    "    delta = timedelta(hours=hours)  # Create a timedelta based on the hours\n",
    "    # Add the timedelta to the base date to get the resulting datetime\n",
    "    result_datetime = base_date + delta\n",
    "    return result_datetime.date()\n",
    "\n",
    "region_daily_min = min_daily_dataset['tasmin'][:, region]\n",
    "region_daily_max = max_daily_dataset['tasmax'][:, region]\n",
    "data_dict = {'min': region_daily_min, 'max': region_daily_max, 'time': min_daily_dataset['time'][:]}\n",
    "df = pd.DataFrame(data=data_dict)\n",
    "df['date'] = df['time'].apply(convert_hours_to_datetime)\n",
    "df['avg'] = (df['min'] + df['max'])/2\n",
    "df['date'] = pd.to_datetime(df['date'])\n",
    "df.head(10)"
   ]
  },
  {
   "attachments": {},
   "cell_type": "markdown",
   "metadata": {},
   "source": [
    "Single step CNNs are designed to make single predictions on the next token in a sequence. This is poorly suited to our needs, which are the number of degree days over an entire period. Therefore instead of attempting to model the temperature dynamics of each day (which is chaotic and very difficult to do accurately over long periods of time, eg a whole season) we will instead attempt to model the underlying of our products. That is the number of degree days in a given season."
   ]
  },
  {
   "attachments": {},
   "cell_type": "markdown",
   "metadata": {},
   "source": [
    "## Degree Day Data Formatting\n",
    "\n",
    "Firstly, we will construct the data into two periods, these periods are the contract type as specified by CME.\n",
    "\n",
    "- HDD/CAT Seasonal Strips (Nov-Mar & Dec-Feb)\n",
    "- CDD/CAT Seasonal Strips (May-Sep & Jul-Aug)\n",
    "\n"
   ]
  },
  {
   "cell_type": "code",
   "execution_count": 51,
   "metadata": {},
   "outputs": [
    {
     "name": "stderr",
     "output_type": "stream",
     "text": [
      "/tmp/ipykernel_42817/1306689716.py:8: SettingWithCopyWarning: \n",
      "A value is trying to be set on a copy of a slice from a DataFrame.\n",
      "Try using .loc[row_indexer,col_indexer] = value instead\n",
      "\n",
      "See the caveats in the documentation: https://pandas.pydata.org/pandas-docs/stable/user_guide/indexing.html#returning-a-view-versus-a-copy\n",
      "  cdd_df['dd'] = cooling_degree_day(cdd_df['avg'])\n",
      "/tmp/ipykernel_42817/1306689716.py:9: FutureWarning: The default value of numeric_only in DataFrameGroupBy.sum is deprecated. In a future version, numeric_only will default to False. Either specify numeric_only or select only columns which should be valid for the function.\n",
      "  cdd_summed_data = cdd_df.groupby(cdd_df['date'].dt.year).sum()\n"
     ]
    },
    {
     "data": {
      "text/html": [
       "<div>\n",
       "<style scoped>\n",
       "    .dataframe tbody tr th:only-of-type {\n",
       "        vertical-align: middle;\n",
       "    }\n",
       "\n",
       "    .dataframe tbody tr th {\n",
       "        vertical-align: top;\n",
       "    }\n",
       "\n",
       "    .dataframe thead th {\n",
       "        text-align: right;\n",
       "    }\n",
       "</style>\n",
       "<table border=\"1\" class=\"dataframe\">\n",
       "  <thead>\n",
       "    <tr style=\"text-align: right;\">\n",
       "      <th></th>\n",
       "      <th>date</th>\n",
       "      <th>dd</th>\n",
       "    </tr>\n",
       "  </thead>\n",
       "  <tbody>\n",
       "    <tr>\n",
       "      <th>0</th>\n",
       "      <td>1960</td>\n",
       "      <td>0.0</td>\n",
       "    </tr>\n",
       "    <tr>\n",
       "      <th>1</th>\n",
       "      <td>1961</td>\n",
       "      <td>0.0</td>\n",
       "    </tr>\n",
       "    <tr>\n",
       "      <th>2</th>\n",
       "      <td>1962</td>\n",
       "      <td>0.0</td>\n",
       "    </tr>\n",
       "    <tr>\n",
       "      <th>3</th>\n",
       "      <td>1963</td>\n",
       "      <td>0.0</td>\n",
       "    </tr>\n",
       "    <tr>\n",
       "      <th>4</th>\n",
       "      <td>1964</td>\n",
       "      <td>0.0</td>\n",
       "    </tr>\n",
       "  </tbody>\n",
       "</table>\n",
       "</div>"
      ],
      "text/plain": [
       "   date   dd\n",
       "0  1960  0.0\n",
       "1  1961  0.0\n",
       "2  1962  0.0\n",
       "3  1963  0.0\n",
       "4  1964  0.0"
      ]
     },
     "execution_count": 51,
     "metadata": {},
     "output_type": "execute_result"
    }
   ],
   "source": [
    "cdd_start_month = 5\n",
    "cdd_end_month = 9\n",
    "cdd_df = df[(df['date'].dt.month >= cdd_start_month) & (df['date'].dt.month <= cdd_end_month)]\n",
    "\n",
    "def cooling_degree_day(temp):\n",
    "    return np.maximum(temp - THRESHOLD_TEMP, 0)\n",
    " \n",
    "cdd_df['dd'] = cooling_degree_day(cdd_df['avg'])\n",
    "cdd_summed_data = cdd_df.groupby(cdd_df['date'].dt.year).sum()\n",
    "# Create a new DataFrame indexed by year\n",
    "cdd_by_year = pd.DataFrame(cdd_summed_data).reset_index()[['date', 'dd']]\n",
    "cdd_by_year.head()"
   ]
  },
  {
   "cell_type": "code",
   "execution_count": 52,
   "metadata": {},
   "outputs": [
    {
     "name": "stderr",
     "output_type": "stream",
     "text": [
      "/tmp/ipykernel_42817/373651965.py:10: FutureWarning: The default value of numeric_only in DataFrameGroupBy.sum is deprecated. In a future version, numeric_only will default to False. Either specify numeric_only or select only columns which should be valid for the function.\n",
      "  hdd_summed_data = hdd_df.groupby(hdd_df['date'].dt.year).sum()\n"
     ]
    },
    {
     "data": {
      "text/html": [
       "<div>\n",
       "<style scoped>\n",
       "    .dataframe tbody tr th:only-of-type {\n",
       "        vertical-align: middle;\n",
       "    }\n",
       "\n",
       "    .dataframe tbody tr th {\n",
       "        vertical-align: top;\n",
       "    }\n",
       "\n",
       "    .dataframe thead th {\n",
       "        text-align: right;\n",
       "    }\n",
       "</style>\n",
       "<table border=\"1\" class=\"dataframe\">\n",
       "  <thead>\n",
       "    <tr style=\"text-align: right;\">\n",
       "      <th></th>\n",
       "      <th>date</th>\n",
       "      <th>dd</th>\n",
       "    </tr>\n",
       "  </thead>\n",
       "  <tbody>\n",
       "    <tr>\n",
       "      <th>0</th>\n",
       "      <td>1960</td>\n",
       "      <td>3772.268333</td>\n",
       "    </tr>\n",
       "    <tr>\n",
       "      <th>1</th>\n",
       "      <td>1961</td>\n",
       "      <td>3799.703175</td>\n",
       "    </tr>\n",
       "    <tr>\n",
       "      <th>2</th>\n",
       "      <td>1962</td>\n",
       "      <td>4077.795999</td>\n",
       "    </tr>\n",
       "    <tr>\n",
       "      <th>3</th>\n",
       "      <td>1963</td>\n",
       "      <td>4151.285499</td>\n",
       "    </tr>\n",
       "    <tr>\n",
       "      <th>4</th>\n",
       "      <td>1964</td>\n",
       "      <td>3865.240234</td>\n",
       "    </tr>\n",
       "  </tbody>\n",
       "</table>\n",
       "</div>"
      ],
      "text/plain": [
       "   date           dd\n",
       "0  1960  3772.268333\n",
       "1  1961  3799.703175\n",
       "2  1962  4077.795999\n",
       "3  1963  4151.285499\n",
       "4  1964  3865.240234"
      ]
     },
     "execution_count": 52,
     "metadata": {},
     "output_type": "execute_result"
    }
   ],
   "source": [
    "hdd_start_month = 11\n",
    "hdd_end_month = 3\n",
    "hdd_df = df[(df['date'].dt.month >= cdd_start_month) | (df['date'].dt.month <= cdd_end_month)]\n",
    "\n",
    "def heating_degree_day(temp):\n",
    "    return np.maximum(THRESHOLD_TEMP - temp, 0)\n",
    " \n",
    "hdd_df['dd'] = heating_degree_day(hdd_df['avg'])\n",
    "\n",
    "hdd_summed_data = hdd_df.groupby(hdd_df['date'].dt.year).sum()\n",
    "# Create a new DataFrame indexed by year\n",
    "hdd_by_year = pd.DataFrame(hdd_summed_data).reset_index()[['date', 'dd']]\n",
    "hdd_by_year.head()"
   ]
  },
  {
   "attachments": {},
   "cell_type": "markdown",
   "metadata": {},
   "source": [
    "## LSTM testing"
   ]
  },
  {
   "cell_type": "code",
   "execution_count": 24,
   "metadata": {},
   "outputs": [],
   "source": [
    "import torch\n",
    "import torch.nn as nn\n",
    "import numpy as np\n",
    "import matplotlib.pyplot as plt\n",
    "\n",
    "# Create toy data\n",
    "def generate_data(length=1000, n_features=1):\n",
    "    t = np.arange(0, length)\n",
    "    x = np.sin(0.01 * t) + 0.5 * np.random.rand(length)\n",
    "    x = x.reshape((length, n_features))\n",
    "    return x\n",
    "\n",
    "# Define LSTM model\n",
    "class LSTMForecaster(nn.Module):\n",
    "    def __init__(self, input_dim, hidden_dim, num_layers, output_dim):\n",
    "        super(LSTMForecaster, self).__init__()\n",
    "        self.hidden_dim = hidden_dim\n",
    "        self.num_layers = num_layers\n",
    "\n",
    "        self.lstm = nn.LSTM(input_dim, hidden_dim, num_layers, batch_first=True)\n",
    "        self.fc = nn.Linear(hidden_dim, output_dim)\n",
    "\n",
    "    def forward(self, x):\n",
    "        h0 = torch.zeros(self.num_layers, x.size(0), self.hidden_dim).requires_grad_()\n",
    "        c0 = torch.zeros(self.num_layers, x.size(0), self.hidden_dim).requires_grad_()\n",
    "        \n",
    "        out, (hn, cn) = self.lstm(x, (h0.detach(), c0.detach()))\n",
    "        out = self.fc(out[:, -1, :])\n",
    "        return out\n",
    "\n",
    "# Train the model\n",
    "def train_model(model, data, target, optimizer, criterion, epochs):\n",
    "    for epoch in range(epochs):\n",
    "        model.train()\n",
    "        optimizer.zero_grad()\n",
    "\n",
    "        outputs = model(data)\n",
    "        loss = criterion(outputs, target)\n",
    "        loss.backward()\n",
    "        optimizer.step()\n",
    "\n",
    "        if (epoch+1) % 50 == 0:\n",
    "            print(data.shape)\n",
    "            print(f'Epoch [{epoch+1}/{epochs}], Loss: {loss.item():.4f}')\n",
    "\n",
    "# Forecast multiple steps ahead\n",
    "def forecast(model, data, steps):\n",
    "    forecasts = data.tolist()\n",
    "    for i in range(steps):\n",
    "        model.eval()\n",
    "        input_data = torch.tensor(forecasts[-sequence_length:], dtype=torch.float32)\n",
    "        print(input_data.shape)\n",
    "        prediction = model(input_data)\n",
    "        forecasts.append(prediction.item())\n",
    "    return forecasts[-steps:]\n",
    "\n",
    "# Generate data\n",
    "data = generate_data()\n",
    "sequence_length = 100\n",
    "n_features = 1\n",
    "\n",
    "# Prepare data for training\n",
    "X = []\n",
    "y = []\n",
    "for i in range(len(data)-sequence_length-1):\n",
    "    X.append(data[i:i+sequence_length])\n",
    "    y.append(data[i+sequence_length])\n",
    "\n",
    "X = torch.tensor(X, dtype=torch.float32)\n",
    "y = torch.tensor(y, dtype=torch.float32)"
   ]
  },
  {
   "cell_type": "code",
   "execution_count": 16,
   "metadata": {},
   "outputs": [],
   "source": [
    "# Define hyperparameters\n",
    "input_dim = n_features\n",
    "hidden_dim = 64\n",
    "num_layers = 1\n",
    "output_dim = n_features\n",
    "learning_rate = 0.001\n",
    "epochs = 100\n",
    "\n",
    "# Initialize and train the model\n",
    "model = LSTMForecaster(input_dim, hidden_dim, num_layers, output_dim)\n",
    "optimizer = torch.optim.Adam(model.parameters(), lr=learning_rate)\n",
    "criterion = nn.MSELoss()"
   ]
  },
  {
   "cell_type": "code",
   "execution_count": 21,
   "metadata": {},
   "outputs": [
    {
     "name": "stdout",
     "output_type": "stream",
     "text": [
      "torch.Size([899, 100, 1])\n",
      "Epoch [50/100], Loss: 0.0266\n",
      "torch.Size([899, 100, 1])\n",
      "Epoch [100/100], Loss: 0.0238\n"
     ]
    }
   ],
   "source": [
    "train_model(model, X, y, optimizer, criterion, epochs)"
   ]
  },
  {
   "cell_type": "code",
   "execution_count": 25,
   "metadata": {},
   "outputs": [
    {
     "name": "stdout",
     "output_type": "stream",
     "text": [
      "torch.Size([1, 100, 1])\n"
     ]
    },
    {
     "ename": "TypeError",
     "evalue": "not a sequence",
     "output_type": "error",
     "traceback": [
      "\u001b[0;31m---------------------------------------------------------------------------\u001b[0m",
      "\u001b[0;31mTypeError\u001b[0m                                 Traceback (most recent call last)",
      "Cell \u001b[0;32mIn[25], line 3\u001b[0m\n\u001b[1;32m      1\u001b[0m \u001b[39m# Forecast 10 steps ahead\u001b[39;00m\n\u001b[1;32m      2\u001b[0m forecast_steps \u001b[39m=\u001b[39m \u001b[39m10\u001b[39m\n\u001b[0;32m----> 3\u001b[0m forecasted_data \u001b[39m=\u001b[39m forecast(model, torch\u001b[39m.\u001b[39mtensor([data[\u001b[39m-\u001b[39msequence_length:]], dtype\u001b[39m=\u001b[39mtorch\u001b[39m.\u001b[39mfloat32), forecast_steps)\n",
      "Cell \u001b[0;32mIn[24], line 51\u001b[0m, in \u001b[0;36mforecast\u001b[0;34m(model, data, steps)\u001b[0m\n\u001b[1;32m     49\u001b[0m \u001b[39mfor\u001b[39;00m i \u001b[39min\u001b[39;00m \u001b[39mrange\u001b[39m(steps):\n\u001b[1;32m     50\u001b[0m     model\u001b[39m.\u001b[39meval()\n\u001b[0;32m---> 51\u001b[0m     input_data \u001b[39m=\u001b[39m torch\u001b[39m.\u001b[39mtensor(forecasts[\u001b[39m-\u001b[39msequence_length:], dtype\u001b[39m=\u001b[39mtorch\u001b[39m.\u001b[39mfloat32)\n\u001b[1;32m     52\u001b[0m     \u001b[39mprint\u001b[39m(input_data\u001b[39m.\u001b[39mshape)\n\u001b[1;32m     53\u001b[0m     prediction \u001b[39m=\u001b[39m model(input_data)\n",
      "\u001b[0;31mTypeError\u001b[0m: not a sequence"
     ]
    }
   ],
   "source": [
    "# Forecast 10 steps ahead\n",
    "forecast_steps = 10\n",
    "forecasted_data = forecast(model, torch.tensor([data[-sequence_length:]], dtype=torch.float32), forecast_steps)"
   ]
  },
  {
   "cell_type": "code",
   "execution_count": 15,
   "metadata": {},
   "outputs": [
    {
     "ename": "NameError",
     "evalue": "name 'forecasted_data' is not defined",
     "output_type": "error",
     "traceback": [
      "\u001b[0;31m---------------------------------------------------------------------------\u001b[0m",
      "\u001b[0;31mNameError\u001b[0m                                 Traceback (most recent call last)",
      "Cell \u001b[0;32mIn[15], line 3\u001b[0m\n\u001b[1;32m      1\u001b[0m \u001b[39m# Plot the results\u001b[39;00m\n\u001b[1;32m      2\u001b[0m plt\u001b[39m.\u001b[39mplot(np\u001b[39m.\u001b[39marange(\u001b[39mlen\u001b[39m(data)), data, label\u001b[39m=\u001b[39m\u001b[39m'\u001b[39m\u001b[39mOriginal Data\u001b[39m\u001b[39m'\u001b[39m)\n\u001b[0;32m----> 3\u001b[0m plt\u001b[39m.\u001b[39mplot(np\u001b[39m.\u001b[39marange(\u001b[39mlen\u001b[39m(data), \u001b[39mlen\u001b[39m(data) \u001b[39m+\u001b[39m forecast_steps), forecasted_data, label\u001b[39m=\u001b[39m\u001b[39m'\u001b[39m\u001b[39mForecast\u001b[39m\u001b[39m'\u001b[39m)\n\u001b[1;32m      4\u001b[0m plt\u001b[39m.\u001b[39mlegend()\n\u001b[1;32m      5\u001b[0m plt\u001b[39m.\u001b[39mshow()\n",
      "\u001b[0;31mNameError\u001b[0m: name 'forecasted_data' is not defined"
     ]
    },
    {
     "data": {
      "image/png": "[encoded data removed]",
      "text/plain": [
       "<Figure size 640x480 with 1 Axes>"
      ]
     },
     "metadata": {},
     "output_type": "display_data"
    }
   ],
   "source": [
    "# Plot the results\n",
    "plt.plot(np.arange(len(data)), data, label='Original Data')\n",
    "plt.plot(np.arange(len(data), len(data) + forecast_steps), forecasted_data, label='Forecast')\n",
    "plt.legend()\n",
    "plt.show()"
   ]
  }
 ],
 "metadata": {
  "kernelspec": {
   "display_name": "urop-env",
   "language": "python",
   "name": "python3"
  },
  "language_info": {
   "codemirror_mode": {
    "name": "ipython",
    "version": 3
   },
   "file_extension": ".py",
   "mimetype": "text/x-python",
   "name": "python",
   "nbconvert_exporter": "python",
   "pygments_lexer": "ipython3",
   "version": "3.11.4"
  },
  "orig_nbformat": 4
 },
 "nbformat": 4,
 "nbformat_minor": 2
}
