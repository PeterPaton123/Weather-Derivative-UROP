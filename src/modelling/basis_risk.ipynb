{
 "cells": [
  {
   "cell_type": "markdown",
   "metadata": {},
   "source": [
    "# Basis Risk on US Commodities\n",
    "\n",
    "Now we have a temperature model and are able to construct risk free portfolios based on temperature data, I aim to model basis risk in the US commodities. \n",
    "\n",
    "In order to promote liquidity of weather derivative contracts the Chicargo Mercentile Exchange (CME) offers standardised derivative contracts in the following cities (as we will be measuring spatial correlations, we restrict our analysis to the US market):\n",
    "\n",
    "| City           | Airport                                          | WBAN Station |\n",
    "|----------------|--------------------------------------------------|--------------|\n",
    "| Atlanta        | Hartsfield International Airport                 | 13874        |\n",
    "| Boston         | Logan International Airport                      | 14739        |\n",
    "| Burbank        | Glendale-Pasadena Airport                        | 23152        |\n",
    "| Chicago        | O’Hare International Airport                     | 94846        |\n",
    "| Cincinnati     | Northern Kentucky (Covington) Airport            | 93814        |\n",
    "| Dallas         | Fort Worth International Airport                 | 03927        |\n",
    "| Houston        | George Bush Intercontinental Airport             | 12960        |\n",
    "| Las Vegas      | McCarran International Airport                   | 23169        |\n",
    "| Minneapolis    | St. Paul International Airport                   | 14922        |\n",
    "| New York       | La Guardia Airport                               | 14732        |\n",
    "| Philadelphia   | International Airport                            | 13739        |\n",
    "| Portland       | International Airport                            | 24229        |\n",
    "| Sacramento     | Executive Airport                                | 23232        |\n",
    "\n",
    "![alt text](https://www.cmegroup.com/trading/weather/images/2023-weather-map01.jpg)\n"
   ]
  },
  {
   "cell_type": "code",
   "execution_count": null,
   "metadata": {},
   "outputs": [],
   "source": []
  }
 ],
 "metadata": {
  "language_info": {
   "name": "python"
  },
  "orig_nbformat": 4
 },
 "nbformat": 4,
 "nbformat_minor": 2
}
