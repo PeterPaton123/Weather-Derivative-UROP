{
 "cells": [
  {
   "attachments": {},
   "cell_type": "markdown",
   "metadata": {},
   "source": [
    "# Binomial Pricing Model\n",
    "\n",
    "This is a basic options pricing model, it assumes the value of the underlying can either go up to a determined value or down to a determined value, this happens with probabilities $p$ and $1-p$ respectively.\n",
    "\n",
    "For example, consider an asset priced at $100$ with a probability of increasing to $102$ with probability $0.4$ and a probability of decreasing to $98$ of $0.6$. We aim to price a call option with a strike price of $101$.\n",
    "\n",
    "In selling a call option on the asset we make no speculation on the price movements, therefore we must be risk neutral. In addition to selling this options contract we also long a proportion, $\\Delta$, of the underlying stock. At the current time the value of our portfolio is given by $V - \\Delta S$, where $S$ is the current asset price and $V$ is the price of the option. \n",
    "\n",
    "If the value of the stock moves up we lose the difference between the strike and realised value. In our example, we lose $102-101=1$ but we have $\\Delta * 102$ from longing the stock and so our portfolio value is $\\Delta 102 - 1$. If the value of the stock goes down the contract is not exercised and the value of the portfolio is $98\\Delta$. In order to remain hedged we pick a value of $\\Delta$ which ensures these quantities are the same. \n",
    "$$ -1 + 102\\Delta = 98\\Delta \\implies \\Delta = 0.25.$$ \n",
    "Therefore, regardless of how the underlying asset moves, our portfolio will be worth $98\\Delta = 24.5$. As $P = V - 0.25 S$ ($\\Delta = 0.25$) we find that $V = 0.5$ is a fair price for this options contract. Notably, we did not use the associated probabilities of the asset's price movements in pricing this contract. This is because we are not making any speculation on the assets movements and instead constructing a portfolio which behaves deterministically regardless of the underlying asset movements."
   ]
  },
  {
   "attachments": {},
   "cell_type": "markdown",
   "metadata": {},
   "source": [
    "## General Binomial Model\n",
    "\n",
    "In a time step $\\delta t$ we say an asset with initial price $S$ can either rise to a value of $uS$ or fall to a value of $vS$. The probability of a rise is $p$ and a fall $1-p$, of course we have the constraint $0 < v < 1 < u$.\n",
    "\n",
    "As we will show\n",
    "\n",
    "$$ u = 1 + \\sigma\\sqrt{\\delta t}$$\n",
    "$$ v = 1 - \\sigma\\sqrt{\\delta t}$$\n",
    "$$ p = \\frac{1}{2} + \\frac{\\mu\\sqrt{\\delta t}}{2\\sigma} $$\n",
    "\n",
    "#### Average asset change\n",
    "\n",
    "The expected value of the asset at time $t + \\delta t$ is given by:\n",
    "\n",
    "$$\\mathbb{E}[S_{t+\\delta t}] = puS + (1-p)vS = \\dots = S_{t}(1 + \\mu\\sqrt{\\delta t}).$$\n",
    "\n",
    "The expected change in the asset value is therefore:\n",
    "\n",
    "$$ \\mathbb{E}[S_{t+\\delta t}] - S_{t} = S_{t}\\mu\\sqrt{\\delta t}.$$\n",
    "\n",
    "Furthermore, it can be shown the variance of the change in asset price is\n",
    "$$ S_{t}^{2}(\\sigma^{2}\\sqrt{\\delta t} - \\mu^{2}{\\delta t}^{2}). $$\n",
    "\n",
    "So the standard deviatiion of returns is approximately $\\sigma \\sqrt{\\delta t}$.\n",
    "\n",
    "#### Pricing the call option\n",
    "To price this option we construct a porfolio in which we sell this option and buy a proportion of shares $\\Delta S$. At time $t$ our portfolio is worth $P = -V + \\Delta S_{t}$. If the asset rises the options contract is worth (to us, the writer) $-V^{+}$ (difference between $uS$ and the strike) and if it falls it is worth $V^{-}$. So the portfolio is worth either $-V^{+}+\\Delta uS$ or $-V^{-}+\\Delta vS$. Equating these, we find $\\Delta = \\frac{V^{+}-V^{-}}{(u-v)S}$.\n",
    "\n",
    "# The Greeks\n",
    "\n",
    "The greeks are the derivative of an options value with respect to various variables and parameters.\n",
    "\n",
    "## Delta\n",
    "\n",
    "The delta is the rate of change of the options price with respect to the underlying asset, $\\frac{\\partial V}{\\partial S}$, in the binomial model it is the quantity $\\frac{V^{+}-V^{-}}{(u-v)S}$ in the limit as $\\delta t \\to 0$.\n",
    "\n",
    "## Gamma\n",
    "\n",
    "The gamma of an options is the rate of change of $\\Delta$ with respect to the price of the underlying. This is given by $\\frac{\\partial^{2}V}{\\partial S^{2}}$.\n",
    "\n",
    "## Theta\n",
    "\n",
    "The theta of an option is the sensitivity of the options price with respect to time, assuming that the asset price does not change, $\\frac{\\partial V}{\\partial t}$. In the binomal model, this is given by $\\frac{0.5(V^{+}+V^{-}) - V}{\\delta t}$.\n",
    "\n",
    "## Vega\n",
    "\n",
    "The vega is the sensitivity of the option value with respect too the volatility, $\\frac{\\partial V}{\\partial \\sigma}$. In our binomial model, this can be approximated by using the binomial tree model with two different values of $\\sigma,~ \\sigma \\pm \\epsilon$."
   ]
  },
  {
   "cell_type": "code",
   "execution_count": null,
   "metadata": {
    "vscode": {
     "languageId": "plaintext"
    }
   },
   "outputs": [],
   "source": [
    "# Black-Scholes Formula for Options Pricing\n",
    "\n"
   ]
  }
 ],
 "metadata": {
  "language_info": {
   "name": "python"
  },
  "orig_nbformat": 4
 },
 "nbformat": 4,
 "nbformat_minor": 2
}
